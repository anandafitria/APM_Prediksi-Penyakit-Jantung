{
 "cells": [
  {
   "cell_type": "code",
   "execution_count": 63,
   "id": "0a9f4552",
   "metadata": {},
   "outputs": [],
   "source": [
    "import pandas as pd \n",
    "import numpy as np \n",
    "from sklearn.neighbors import KNeighborsClassifier \n",
    "from sklearn.metrics import accuracy_score\n",
    "\n",
    "from sklearn.model_selection import GridSearchCV"
   ]
  },
  {
   "cell_type": "code",
   "execution_count": 64,
   "id": "7adcf1be",
   "metadata": {},
   "outputs": [],
   "source": [
    "df = pd.read_csv(\"hearttest.csv\")\n",
    "\n",
    "x_train = df.values\n",
    "x_train = np.delete(x_train,11,axis=1)\n",
    "\n",
    "y_train = df['HeartDisease'].values\n",
    "\n",
    "df = pd.read_csv(\"hearttest.csv\")\n",
    "\n",
    "x_test = df.values\n",
    "x_test = np.delete(x_test,11,axis=1)\n",
    "\n",
    "y_test = df['HeartDisease'].values"
   ]
  },
  {
   "cell_type": "code",
   "execution_count": 65,
   "id": "40465243",
   "metadata": {},
   "outputs": [
    {
     "data": {
      "text/html": [
       "<div>\n",
       "<style scoped>\n",
       "    .dataframe tbody tr th:only-of-type {\n",
       "        vertical-align: middle;\n",
       "    }\n",
       "\n",
       "    .dataframe tbody tr th {\n",
       "        vertical-align: top;\n",
       "    }\n",
       "\n",
       "    .dataframe thead th {\n",
       "        text-align: right;\n",
       "    }\n",
       "</style>\n",
       "<table border=\"1\" class=\"dataframe\">\n",
       "  <thead>\n",
       "    <tr style=\"text-align: right;\">\n",
       "      <th></th>\n",
       "      <th>Age</th>\n",
       "      <th>Sex</th>\n",
       "      <th>ChestPainType</th>\n",
       "      <th>RestingBP</th>\n",
       "      <th>Cholesterol</th>\n",
       "      <th>FastingBS</th>\n",
       "      <th>RestingECG</th>\n",
       "      <th>MaxHR</th>\n",
       "      <th>ExerciseAngina</th>\n",
       "      <th>Oldpeak</th>\n",
       "      <th>ST_Slope</th>\n",
       "      <th>HeartDisease</th>\n",
       "    </tr>\n",
       "  </thead>\n",
       "  <tbody>\n",
       "    <tr>\n",
       "      <th>0</th>\n",
       "      <td>40</td>\n",
       "      <td>1</td>\n",
       "      <td>0</td>\n",
       "      <td>140</td>\n",
       "      <td>289</td>\n",
       "      <td>0</td>\n",
       "      <td>1</td>\n",
       "      <td>172</td>\n",
       "      <td>0</td>\n",
       "      <td>0.0</td>\n",
       "      <td>1</td>\n",
       "      <td>0</td>\n",
       "    </tr>\n",
       "    <tr>\n",
       "      <th>1</th>\n",
       "      <td>49</td>\n",
       "      <td>0</td>\n",
       "      <td>1</td>\n",
       "      <td>160</td>\n",
       "      <td>180</td>\n",
       "      <td>0</td>\n",
       "      <td>1</td>\n",
       "      <td>156</td>\n",
       "      <td>0</td>\n",
       "      <td>1.0</td>\n",
       "      <td>0</td>\n",
       "      <td>1</td>\n",
       "    </tr>\n",
       "    <tr>\n",
       "      <th>2</th>\n",
       "      <td>37</td>\n",
       "      <td>1</td>\n",
       "      <td>0</td>\n",
       "      <td>130</td>\n",
       "      <td>283</td>\n",
       "      <td>0</td>\n",
       "      <td>0</td>\n",
       "      <td>98</td>\n",
       "      <td>0</td>\n",
       "      <td>0.0</td>\n",
       "      <td>1</td>\n",
       "      <td>0</td>\n",
       "    </tr>\n",
       "    <tr>\n",
       "      <th>3</th>\n",
       "      <td>48</td>\n",
       "      <td>0</td>\n",
       "      <td>2</td>\n",
       "      <td>138</td>\n",
       "      <td>214</td>\n",
       "      <td>0</td>\n",
       "      <td>1</td>\n",
       "      <td>108</td>\n",
       "      <td>1</td>\n",
       "      <td>1.5</td>\n",
       "      <td>0</td>\n",
       "      <td>1</td>\n",
       "    </tr>\n",
       "    <tr>\n",
       "      <th>4</th>\n",
       "      <td>54</td>\n",
       "      <td>1</td>\n",
       "      <td>1</td>\n",
       "      <td>150</td>\n",
       "      <td>195</td>\n",
       "      <td>0</td>\n",
       "      <td>1</td>\n",
       "      <td>122</td>\n",
       "      <td>0</td>\n",
       "      <td>0.0</td>\n",
       "      <td>1</td>\n",
       "      <td>0</td>\n",
       "    </tr>\n",
       "  </tbody>\n",
       "</table>\n",
       "</div>"
      ],
      "text/plain": [
       "   Age  Sex  ChestPainType  RestingBP  Cholesterol  FastingBS  RestingECG  \\\n",
       "0   40    1              0        140          289          0           1   \n",
       "1   49    0              1        160          180          0           1   \n",
       "2   37    1              0        130          283          0           0   \n",
       "3   48    0              2        138          214          0           1   \n",
       "4   54    1              1        150          195          0           1   \n",
       "\n",
       "   MaxHR  ExerciseAngina  Oldpeak  ST_Slope  HeartDisease  \n",
       "0    172               0      0.0         1             0  \n",
       "1    156               0      1.0         0             1  \n",
       "2     98               0      0.0         1             0  \n",
       "3    108               1      1.5         0             1  \n",
       "4    122               0      0.0         1             0  "
      ]
     },
     "execution_count": 65,
     "metadata": {},
     "output_type": "execute_result"
    }
   ],
   "source": [
    "df.head()"
   ]
  },
  {
   "cell_type": "code",
   "execution_count": 77,
   "id": "9d95c598",
   "metadata": {},
   "outputs": [
    {
     "data": {
      "text/plain": [
       "0.84"
      ]
     },
     "execution_count": 77,
     "metadata": {},
     "output_type": "execute_result"
    }
   ],
   "source": [
    "#KNN TANPA TUNING\n",
    "\n",
    "knn_clf = KNeighborsClassifier(n_neighbors=2)\n",
    "knn_clf.fit(x_train,y_train)\n",
    "\n",
    "y_pred = knn_clf.predict(x_test)\n",
    "\n",
    "round(accuracy_score(y_test,y_pred),2)"
   ]
  },
  {
   "cell_type": "code",
   "execution_count": 85,
   "id": "0764a6c7",
   "metadata": {},
   "outputs": [
    {
     "data": {
      "text/plain": [
       "{'n_neighbors': 9}"
      ]
     },
     "execution_count": 85,
     "metadata": {},
     "output_type": "execute_result"
    }
   ],
   "source": [
    "param_grid = {'n_neighbors': np.arange(1,201)}\n",
    "\n",
    "knn_clf = GridSearchCV(KNeighborsClassifier(), param_grid, cv=2, scoring='accuracy')\n",
    "\n",
    "knn_clf.fit(x_train, y_train)\n",
    "knn_clf.best_params_"
   ]
  },
  {
   "cell_type": "code",
   "execution_count": 87,
   "id": "67912d81",
   "metadata": {},
   "outputs": [
    {
     "data": {
      "text/plain": [
       "0.77"
      ]
     },
     "execution_count": 87,
     "metadata": {},
     "output_type": "execute_result"
    }
   ],
   "source": [
    "#KNN DENGAN TUNING TETANGGA TERDEKAT 9\n",
    "\n",
    "knn_clf = KNeighborsClassifier(n_neighbors=9)\n",
    "knn_clf.fit(x_train,y_train)\n",
    "\n",
    "y_pred = knn_clf.predict(x_test)\n",
    "\n",
    "round(accuracy_score(y_test,y_pred),2)"
   ]
  },
  {
   "cell_type": "code",
   "execution_count": 88,
   "id": "b9f71b56",
   "metadata": {},
   "outputs": [],
   "source": [
    "#PICKLE\n",
    "\n",
    "import pickle\n",
    "\n",
    "with open('knn_pickle','wb') as r:\n",
    "    pickle.dump(knn_clf,r)"
   ]
  },
  {
   "cell_type": "code",
   "execution_count": 89,
   "id": "7317accc",
   "metadata": {},
   "outputs": [],
   "source": [
    "with open('knn_pickle','rb') as r:\n",
    "    knnp = pickle.load(r)"
   ]
  },
  {
   "cell_type": "code",
   "execution_count": 91,
   "id": "0bc2ef9a",
   "metadata": {},
   "outputs": [
    {
     "data": {
      "text/plain": [
       "0.77"
      ]
     },
     "execution_count": 91,
     "metadata": {},
     "output_type": "execute_result"
    }
   ],
   "source": [
    "y_pred = knnp.predict(x_test)\n",
    "\n",
    "round(accuracy_score(y_test,y_pred),2)"
   ]
  },
  {
   "cell_type": "code",
   "execution_count": 92,
   "id": "fdcc1cb4",
   "metadata": {},
   "outputs": [
    {
     "data": {
      "text/plain": [
       "['knn_joblib']"
      ]
     },
     "execution_count": 92,
     "metadata": {},
     "output_type": "execute_result"
    }
   ],
   "source": [
    "#JOBLIB\n",
    "\n",
    "import joblib\n",
    "\n",
    "joblib.dump(knn_clf,'knn_joblib')"
   ]
  },
  {
   "cell_type": "code",
   "execution_count": 93,
   "id": "05536451",
   "metadata": {},
   "outputs": [],
   "source": [
    "knnjl = joblib.load('knn_joblib')"
   ]
  },
  {
   "cell_type": "code",
   "execution_count": 94,
   "id": "98ccd43c",
   "metadata": {},
   "outputs": [
    {
     "data": {
      "text/plain": [
       "0.77"
      ]
     },
     "execution_count": 94,
     "metadata": {},
     "output_type": "execute_result"
    }
   ],
   "source": [
    "y_pred = knnjl.predict(x_test)\n",
    "\n",
    "round(accuracy_score(y_test,y_pred),2)"
   ]
  },
  {
   "cell_type": "code",
   "execution_count": null,
   "id": "9b8eae6f",
   "metadata": {},
   "outputs": [],
   "source": []
  }
 ],
 "metadata": {
  "kernelspec": {
   "display_name": "Python 3 (ipykernel)",
   "language": "python",
   "name": "python3"
  },
  "language_info": {
   "codemirror_mode": {
    "name": "ipython",
    "version": 3
   },
   "file_extension": ".py",
   "mimetype": "text/x-python",
   "name": "python",
   "nbconvert_exporter": "python",
   "pygments_lexer": "ipython3",
   "version": "3.9.7"
  }
 },
 "nbformat": 4,
 "nbformat_minor": 5
}
